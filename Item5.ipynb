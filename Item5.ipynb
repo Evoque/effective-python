{
 "cells": [
  {
   "cell_type": "markdown",
   "id": "a6567fa7",
   "metadata": {},
   "source": [
    "# Item 5: Prefer Multiple-Assignment Unpacking over Indexing\n",
    "\n",
    "With unpacking syntax, it's possible to swap indexes in a single line:"
   ]
  },
  {
   "cell_type": "code",
   "execution_count": null,
   "id": "5e75650b",
   "metadata": {},
   "outputs": [],
   "source": [
    "def bubble_sort(a):\n",
    "    for _ in range(len(a)):\n",
    "        for i in range(1, len(a)):\n",
    "            if a[i] < a[i - 1]:\n",
    "                a[i - 1], a[i] = a[i], a[i - 1]  # Swap"
   ]
  }
 ],
 "metadata": {
  "language_info": {
   "name": "python"
  }
 },
 "nbformat": 4,
 "nbformat_minor": 5
}
