{
 "cells": [
  {
   "cell_type": "markdown",
   "id": "a6567fa7",
   "metadata": {},
   "source": [
    "# Item 5: Prefer Multiple-Assignment Unpacking over Indexing\n",
    "\n",
    "With unpacking syntax, it's possible to swap indexes in a single line:"
   ]
  },
  {
   "cell_type": "code",
   "execution_count": null,
   "id": "5e75650b",
   "metadata": {},
   "outputs": [],
   "source": [
    "def bubble_sort(a):\n",
    "    for _ in range(len(a)):\n",
    "        for i in range(1, len(a)):\n",
    "            if a[i] < a[i - 1]:\n",
    "                a[i - 1], a[i] = a[i], a[i - 1]  # Swap"
   ]
  },
  {
   "cell_type": "code",
   "execution_count": null,
   "id": "157068a1",
   "metadata": {},
   "outputs": [
    {
     "ename": "",
     "evalue": "",
     "output_type": "error",
     "traceback": [
      "\u001b[1;31mRunning cells with 'Python 3.12.8' requires the ipykernel package.\n",
      "\u001b[1;31m<a href='command:jupyter.createPythonEnvAndSelectController'>Create a Python Environment</a> with the required packages.\n",
      "\u001b[1;31mOr install 'ipykernel' using the command: '/opt/homebrew/bin/python3.12 -m pip install ipykernel -U --user --force-reinstall'"
     ]
    }
   ],
   "source": [
    "# Unpacking array along with the `enumerate` \n",
    "snacks = [(\"bacon\", 350), (\"cheese\", 200), (\"eggs\", 100)]\n",
    "for rank, (name, cal) in enumerate(snacks, 1):\n",
    "    print(f\"{rank}. {name}: {cal} cal\")\n"
   ]
  },
  {
   "cell_type": "markdown",
   "id": "91f04d65",
   "metadata": {},
   "source": [
    "Python provides additional unpacking functionality:\n",
    "- Item 16: Prefer Catch-All Unpacking over Slicing\n",
    "- Item 34: Reduce Visual Noise with Variable Positional Arguments\n",
    "- Item 35: Provide Optional Behavior with Keyword Arguments\n",
    "- Item 31: Return Dedicated Result Objects Instead of Requiring Function Callers to Unpack More Than Three Variables\n",
    "- Item 9: Consider `match` for Destructuring in Flow Control; Avoid When `if` Statements Are Sufficient\n",
    "\n",
    "But，unpackings are not without pitfalls to consider:\n",
    "- Item 6: Always Surround Single-Element Tuples with Parentheses\n",
    "- Item 8: Prevent Repetition with Assignment Expressions"
   ]
  }
 ],
 "metadata": {
  "kernelspec": {
   "display_name": "Python 3",
   "language": "python",
   "name": "python3"
  },
  "language_info": {
   "name": "python",
   "version": "3.12.8"
  }
 },
 "nbformat": 4,
 "nbformat_minor": 5
}
