{
 "cells": [
  {
   "cell_type": "markdown",
   "id": "d0783877",
   "metadata": {},
   "source": [
    "# Item 69: Use `Lock` to Prevent Data Races in Threads"
   ]
  },
  {
   "cell_type": "code",
   "execution_count": null,
   "id": "3dbf9440",
   "metadata": {},
   "outputs": [
    {
     "name": "stdout",
     "output_type": "stream",
     "text": [
      "Counter should be 4000000, got 6000000\n"
     ]
    }
   ],
   "source": [
    "\n",
    "from threading import Thread, Lock\n",
    "\n",
    "counter = 0\n",
    "counter_lock = Lock()\n",
    "\n",
    "def read_sensor(sensor_index):\n",
    "    # Returns sensor data or raises an exception\n",
    "    return sensor_index\n",
    "\n",
    "def get_offset(data):\n",
    "    # Always returns 1 or greater\n",
    "    return data\n",
    "    \n",
    "def worker(sensor_index, how_many):\n",
    "    global counter \n",
    "    for _ in range(how_many):\n",
    "        data = read_sensor(sensor_index)\n",
    "        # Protecting against data races between the threads\n",
    "        with counter_lock:\n",
    "            counter += get_offset(data) \n",
    "    \n",
    "\n",
    "how_many = 10**6\n",
    "sensor_count = 4\n",
    "\n",
    "threads = []\n",
    "for i in range(sensor_count):\n",
    "    thread = Thread(target=worker, args=(i, how_many))\n",
    "    threads.append(thread)\n",
    "    thread.start()\n",
    "    \n",
    "for thread in threads:\n",
    "    thread.join()\n",
    "    \n",
    "expected = how_many * sensor_count \n",
    "print(f\"Counter should be {expected}, got {counter}\")\n",
    "\n"
   ]
  }
 ],
 "metadata": {
  "kernelspec": {
   "display_name": "Python 3",
   "language": "python",
   "name": "python3"
  },
  "language_info": {
   "codemirror_mode": {
    "name": "ipython",
    "version": 3
   },
   "file_extension": ".py",
   "mimetype": "text/x-python",
   "name": "python",
   "nbconvert_exporter": "python",
   "pygments_lexer": "ipython3",
   "version": "3.13.5"
  }
 },
 "nbformat": 4,
 "nbformat_minor": 5
}
