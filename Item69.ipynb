{
 "cells": [
  {
   "cell_type": "markdown",
   "id": "d0783877",
   "metadata": {},
   "source": [
    "# Item 69: Use `Lock` to Prevent Data Races in Threads"
   ]
  },
  {
   "cell_type": "code",
   "execution_count": null,
   "id": "3dbf9440",
   "metadata": {},
   "outputs": [
    {
     "name": "stdout",
     "output_type": "stream",
     "text": [
      "Counter should be 4000000, got 4000000\n"
     ]
    }
   ],
   "source": [
    "'''\n",
    "# counter += get_offset() =>  \n",
    "1. value = counter \n",
    "2. delta = get_offset()\n",
    "... 被其他线程插入，其他线程计算的counter被覆盖\n",
    "3. result = value + delta \n",
    "4. counter = result \n",
    "\n",
    "# counter += 1   ADD %esp, 1\n",
    "1. value = counter \n",
    "2. value = value + 1\n",
    "3. counter = value\n",
    "\n",
    "'''\n",
    "\n",
    "\n",
    "from threading import Thread, Lock\n",
    "\n",
    "counter = 0\n",
    "counters = []\n",
    "# counter_lock = Lock()\n",
    "\n",
    "def get_offset():\n",
    "    return 1\n",
    "\n",
    "def worker(sensor_index, how_many):\n",
    "    global counter \n",
    "    for _ in range(how_many):\n",
    "        # Protecting against data races between the threads\n",
    "        # counter += get_offset()\n",
    "        # counter += get_offset() \n",
    "        # counter += 1 \n",
    "        counters.append(1)\n",
    "        with counter_lock:\n",
    "            counter += 1\n",
    "    \n",
    "\n",
    "how_many = 10**6\n",
    "sensor_count = 4\n",
    "\n",
    "threads = []\n",
    "for i in range(sensor_count):\n",
    "    thread = Thread(target=worker, args=(i, how_many))\n",
    "    threads.append(thread)\n",
    "    thread.start()\n",
    "    \n",
    "for thread in threads:\n",
    "    thread.join()\n",
    "    \n",
    "expected = how_many * sensor_count \n",
    "print(f\"Counter should be {expected}, got {len(counters)}\")\n",
    "\n"
   ]
  }
 ],
 "metadata": {
  "kernelspec": {
   "display_name": "venv",
   "language": "python",
   "name": "python3"
  },
  "language_info": {
   "codemirror_mode": {
    "name": "ipython",
    "version": 3
   },
   "file_extension": ".py",
   "mimetype": "text/x-python",
   "name": "python",
   "nbconvert_exporter": "python",
   "pygments_lexer": "ipython3",
   "version": "3.13.5"
  }
 },
 "nbformat": 4,
 "nbformat_minor": 5
}
