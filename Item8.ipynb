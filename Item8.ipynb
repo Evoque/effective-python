{
 "cells": [
  {
   "cell_type": "markdown",
   "id": "b05386b0",
   "metadata": {},
   "source": [
    "Item 8: Prevent Repetition with Assignment Expressions \n",
    "\n"
   ]
  }
 ],
 "metadata": {
  "language_info": {
   "name": "python"
  }
 },
 "nbformat": 4,
 "nbformat_minor": 5
}
