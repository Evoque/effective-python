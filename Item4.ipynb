{
 "cells": [
  {
   "cell_type": "markdown",
   "id": "4b4878a9",
   "metadata": {},
   "source": [
    "# Item 4: Write Helper Functions Instead of Complex Expressions\n"
   ]
  },
  {
   "cell_type": "code",
   "execution_count": null,
   "id": "5bb87e88",
   "metadata": {},
   "outputs": [
    {
     "ename": "",
     "evalue": "",
     "output_type": "error",
     "traceback": [
      "\u001b[1;31mRunning cells with 'Python 3.13.5' requires the ipykernel package.\n",
      "\u001b[1;31m<a href='command:jupyter.createPythonEnvAndSelectController'>Create a Python Environment</a> with the required packages.\n",
      "\u001b[1;31mOr install 'ipykernel' using the command: '/opt/homebrew/bin/python3 -m pip install ipykernel -U --user --force-reinstall'"
     ]
    }
   ],
   "source": [
    "red = 'red'\n",
    "print(f\"Red:    {red!r}\")"
   ]
  }
 ],
 "metadata": {
  "kernelspec": {
   "display_name": "Python 3",
   "language": "python",
   "name": "python3"
  },
  "language_info": {
   "name": "python",
   "version": "3.13.5"
  }
 },
 "nbformat": 4,
 "nbformat_minor": 5
}
