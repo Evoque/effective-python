{
 "cells": [
  {
   "cell_type": "markdown",
   "id": "90916e6f",
   "metadata": {},
   "source": [
    "# Item 7: Consider Conditional Expressions for Simple inline Logic"
   ]
  },
  {
   "cell_type": "code",
   "execution_count": null,
   "id": "3711c4db",
   "metadata": {
    "vscode": {
     "languageId": "plaintext"
    }
   },
   "outputs": [],
   "source": [
    "You should avoid conditional expressions when they must be split over multiple lines."
   ]
  }
 ],
 "metadata": {
  "language_info": {
   "name": "python"
  }
 },
 "nbformat": 4,
 "nbformat_minor": 5
}
