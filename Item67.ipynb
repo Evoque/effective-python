{
 "cells": [
  {
   "cell_type": "markdown",
   "id": "4d86e2fa",
   "metadata": {},
   "source": [
    "- subprocess.run() vs subprocess.Popen()\n"
   ]
  },
  {
   "cell_type": "markdown",
   "id": "3a6677d8",
   "metadata": {},
   "source": []
  }
 ],
 "metadata": {
  "language_info": {
   "name": "python"
  }
 },
 "nbformat": 4,
 "nbformat_minor": 5
}
