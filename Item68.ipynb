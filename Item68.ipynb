{
 "cells": [
  {
   "cell_type": "markdown",
   "id": "f048ae6c",
   "metadata": {},
   "source": [
    "# Item 68: Use Threads for Blocking I/O; Avoid for Parallelism\n",
    "\n"
   ]
  },
  {
   "cell_type": "code",
   "execution_count": 14,
   "id": "1f0f5f58",
   "metadata": {},
   "outputs": [
    {
     "name": "stdout",
     "output_type": "stream",
     "text": [
      "Serial takes  4.42402 seconds!\n",
      "Threading takes  4.32483 seconds!\n"
     ]
    }
   ],
   "source": [
    "def factorize(number): \n",
    "    for i in range(1, number + 1):\n",
    "        if number % i == 0:\n",
    "            yield i\n",
    "            \n",
    "import time \n",
    "\n",
    "numbers = [7775876, 6694411, 5038540, 5426782,\n",
    "           9934740, 9168996, 5271226, 8288002,\n",
    "           9403196, 6678888, 6776096, 9582542,\n",
    "           7107467, 9633726, 5747908, 7613918]\n",
    "start = time.perf_counter()\n",
    "\n",
    "for number in numbers:\n",
    "    list(factorize(number))\n",
    "\n",
    "end = time.perf_counter()\n",
    "delta = end - start\n",
    "print(f\"Serial takes {delta: .5f} seconds!\")\n",
    "\n",
    "from threading import Thread\n",
    "\n",
    "class FactorizeThread(Thread):\n",
    "    def __init__(self, number):\n",
    "        super().__init__()\n",
    "        self.number = number \n",
    "        \n",
    "    def run(self):\n",
    "        self.factors = list(factorize(self.number))\n",
    "        \n",
    "tstart = time.perf_counter()\n",
    "threads = []\n",
    "for n in numbers:\n",
    "    thread = FactorizeThread(n)\n",
    "    thread.start()\n",
    "    threads.append(thread)\n",
    "    \n",
    "for t in threads:\n",
    "    t.join()\n",
    "\n",
    "tdelta = time.perf_counter() - tstart\n",
    "print(f\"Threading takes {tdelta: .5f} seconds!\")\n",
    "\n"
   ]
  },
  {
   "cell_type": "code",
   "execution_count": 34,
   "id": "0a9083d3",
   "metadata": {},
   "outputs": [
    {
     "name": "stdout",
     "output_type": "stream",
     "text": [
      "主线程开始闹着玩 -- 0\n",
      "主线程开始闹着玩 -- 0\n",
      "主线程开始闹着玩 -- 0\n",
      "主线程开始闹着玩 -- 0\n",
      "主线程开始闹着玩 -- 0\n",
      "主线程开始闹着玩 -- 0\n",
      "while 结束了！！！！！！！！\n"
     ]
    }
   ],
   "source": [
    "import select\n",
    "import socket\n",
    "from threading import Thread, Event, Lock\n",
    "import time\n",
    "\n",
    "def slow_system_call():\n",
    "    select.select([socket.socket()], [], [], 3)\n",
    "    \n",
    "# start = time.perf_counter()\n",
    "# print(\"准备执行!\")\n",
    "# for _ in range(5):\n",
    "#     slow_system_call()\n",
    "\n",
    "# print(\"看到我就说明我没有被卡住!\")\n",
    "\n",
    "# end = time.perf_counter()\n",
    "# delta = end - start \n",
    "# print(f\"Took {delta: .3f} seconds\")\n",
    "# start = time.perf_counter()\n",
    "# threads = []\n",
    "# for _ in range(5):\n",
    "#     thread = Thread(target=slow_system_call)\n",
    "#     thread.start()\n",
    "#     threads.append(thread)\n",
    "\n",
    "# for i in range(5):\n",
    "#     print(f\"Do other calcs! - {i}\")\n",
    "    \n",
    "# for t in threads:\n",
    "#     t.join()\n",
    "\n",
    "# delta = time.perf_counter() - start\n",
    "# print(f\"Took {delta: .3f} seconds !!\")\n",
    "\n",
    "# 让我们去掉't.join()'的阻塞\n",
    "all_tasks_done = Event()\n",
    "completed_count = 0\n",
    "counter_lock = Lock()\n",
    "\n",
    "class FactorizeThread(Thread):\n",
    "    def __init__(self, counter_lock):\n",
    "        super().__init__()\n",
    "        self.counter_lock = counter_lock\n",
    "        \n",
    "    def run(self):\n",
    "        global completed_count\n",
    "        slow_system_call()\n",
    "        \n",
    "        print(f\"子线程 {completed_count} 完成了任务\")\n",
    "        with self.counter_lock:\n",
    "            completed_count += 1\n",
    "            if completed_count == 5:\n",
    "                all_tasks_done.set()\n",
    "\n",
    "threads = []\n",
    "for i in range(5):\n",
    "    thread = FactorizeThread(counter_lock)\n",
    "    thread.start()\n",
    "    threads.append(thread)\n",
    "    \n",
    "while not all_tasks_done.is_set():\n",
    "    print(f\"主线程开始闹着玩 -- {completed_count}\")\n",
    "    time.sleep(0.5)\n",
    "    \n",
    "    \n",
    "print(\"while 结束了！！！！！！！！\")\n",
    "\n",
    "\n"
   ]
  }
 ],
 "metadata": {
  "kernelspec": {
   "display_name": "Python 3",
   "language": "python",
   "name": "python3"
  },
  "language_info": {
   "codemirror_mode": {
    "name": "ipython",
    "version": 3
   },
   "file_extension": ".py",
   "mimetype": "text/x-python",
   "name": "python",
   "nbconvert_exporter": "python",
   "pygments_lexer": "ipython3",
   "version": "3.13.5"
  }
 },
 "nbformat": 4,
 "nbformat_minor": 5
}
