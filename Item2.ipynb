{
 "cells": [
  {
   "cell_type": "markdown",
   "id": "c53eb971",
   "metadata": {},
   "source": [
    "# Item 2: Follow the PEP 8 Style Guide\n",
    "\n",
    "PEP 8 (Python Enhancement Proposal #8): is the style guide for how to format Python code.\n",
    "> https://www.python.org/dev/peps/pep-0008/\n",
    "\n",
    "\n",
    "\n",
    "### Whitespace\n",
    "1. Use spaces instead of tabs(\\t) for indentation.\n",
    "2. Lines should be 79 characters in length or less.\n",
    "3. In a file, functions and classes should be separated by two blank lines.\n",
    "4. In a class, methods should be separated by one blank line.\n",
    "\n",
    "\n",
    "### Naming\n",
    "1. Functions, variables, and attributes should be in `lowercase_underscore` format.\n",
    "2. Protected instance attributes should be in `_leading_underscore` format.\n",
    "> 类内部和子类可访问\n",
    "3. Private instance attributes should be in `__double_leading_underscore` format.\n",
    "> 仅类内部可访问，子类不可访问\n",
    "4. Classes (including exceptions) should be in `CapitalizedWord` format.\n",
    "5. Module-level constants should be in `ALL_CAPS` format.\n",
    "6. Class methods should use `cls`, which refers to the class, as the name of the first parameter.\n",
    "\n",
    "\n",
    "### Expressions and Statements\n",
    "1. Check empty containers or sequences (like [] or \"\") use `if not list`, it assumes that empty values will implicitly evaluate to `False`.\n",
    "2. Avoid single-line `if` statements, `for` and `while` loops, and `except` compound statements.\n",
    "\n",
    "### Imports\n",
    "1. Always put `import` statements (including from x import y) at the top of a file.\n",
    "2. Always use absolute names for modules when importing them, `from bar import foo` or `from . import foo`.\n",
    "\n",
    "### Automation\n",
    "\n",
    "\n"
   ]
  },
  {
   "cell_type": "markdown",
   "id": "7e1cd373",
   "metadata": {},
   "source": []
  }
 ],
 "metadata": {
  "language_info": {
   "name": "python"
  }
 },
 "nbformat": 4,
 "nbformat_minor": 5
}
