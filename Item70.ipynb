{
 "cells": [
  {
   "cell_type": "markdown",
   "id": "72fb6316",
   "metadata": {},
   "source": [
    "# Item 70: Use `Queue` to Coordinate Work Between Threads\n"
   ]
  },
  {
   "cell_type": "code",
   "execution_count": null,
   "id": "d303ea1a",
   "metadata": {},
   "outputs": [
    {
     "name": "stdout",
     "output_type": "stream",
     "text": [
      "Processed 1000 items after polling 3011 times\n"
     ]
    }
   ],
   "source": [
    "from collections import deque\n",
    "from threading import Lock, Thread\n",
    "import time\n",
    "\n",
    "class MyQueue:\n",
    "    def __init__(self):\n",
    "        self.items = deque()\n",
    "        self.lock = Lock()\n",
    "        \n",
    "    def put(self, item):\n",
    "        with self.lock:\n",
    "            self.items.append(item)\n",
    "            \n",
    "    def get(self):\n",
    "        with self.lock:\n",
    "            return self.items.popleft()\n",
    "        \n",
    "class Worker(Thread):\n",
    "    def __init__(self, func, in_queue, out_queue):\n",
    "        super().__init__()\n",
    "        self.func = func \n",
    "        self.in_queue = in_queue\n",
    "        self.out_queue = out_queue\n",
    "        self.polled_count = 0\n",
    "        self.work_done = 0\n",
    "        \n",
    "    def run(self):\n",
    "        while True:\n",
    "            self.polled_count += 1\n",
    "            try:\n",
    "                item = self.in_queue.get()\n",
    "            except IndexError:\n",
    "                time.sleep(0.01) # No work to do \n",
    "            else:\n",
    "                result = self.func(item)\n",
    "                self.out_queue.put(result)\n",
    "                self.work_done += 1\n",
    "\n",
    "def download(item):\n",
    "    return item\n",
    "\n",
    "def resize(item):\n",
    "    return item\n",
    "\n",
    "def upload(item):\n",
    "    return item\n",
    "    \n",
    "download_queue = MyQueue()\n",
    "resize_queue = MyQueue()\n",
    "upload_queue = MyQueue()\n",
    "done_queue = MyQueue()\n",
    "threads = [\n",
    "    Worker(download, download_queue, resize_queue),\n",
    "    Worker(resize, resize_queue, upload_queue),\n",
    "    Worker(upload, upload_queue, done_queue),\n",
    "]\n",
    "\n",
    "for thread in threads:\n",
    "    thread.start()\n",
    "\n",
    "for _ in range(1000):\n",
    "    download_queue.put(object())\n",
    "    \n",
    "while len(done_queue.items) < 1000:\n",
    "    # Do something useful while waiting\n",
    "    ...\n",
    "    \n",
    "processed = len(done_queue.items)\n",
    "polled = sum(t.polled_count for t in threads)\n",
    "print(f\"Processed {processed} items after \"\n",
    "      f\"polling {polled} times\")\n",
    "    \n",
    "    "
   ]
  },
  {
   "cell_type": "markdown",
   "id": "5982e34b",
   "metadata": {},
   "source": [
    "以上实现方式，有三个问题：\n",
    "1. First, determining that all of the input work is complete requires yet another busy wait on the `done_queue`. \n",
    "2. Second, in `Worker`, the `run` method will execute forever in its busy loop.(There's no obvious way to signal to a worker thread that it's time to exit.)\n",
    "3. Third, and worst of all, a backup in the pipeline can cause the program to crash arbitrarily.\n"
   ]
  }
 ],
 "metadata": {
  "kernelspec": {
   "display_name": "Python 3",
   "language": "python",
   "name": "python3"
  },
  "language_info": {
   "codemirror_mode": {
    "name": "ipython",
    "version": 3
   },
   "file_extension": ".py",
   "mimetype": "text/x-python",
   "name": "python",
   "nbconvert_exporter": "python",
   "pygments_lexer": "ipython3",
   "version": "3.13.5"
  }
 },
 "nbformat": 4,
 "nbformat_minor": 5
}
