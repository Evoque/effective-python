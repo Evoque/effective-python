{
 "cells": [
  {
   "cell_type": "markdown",
   "id": "5ab2adea",
   "metadata": {},
   "source": [
    "# Item 6: Always Surround Single-Element Tuples with Parentheses\n",
    "It's all too easy to have an extraneous trailing comma at the end of an expression, which changes the meaning of the expression into a single-element tuple that breaks a program.\n"
   ]
  }
 ],
 "metadata": {
  "language_info": {
   "name": "python"
  }
 },
 "nbformat": 4,
 "nbformat_minor": 5
}
