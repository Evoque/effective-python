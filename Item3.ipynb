{
 "cells": [
  {
   "cell_type": "markdown",
   "id": "85a6b89a",
   "metadata": {},
   "source": [
    "# Item 3: Never Expect Python to Detect Errors at Compile Time\n",
    "1. Python defers nearly all error checking until runtime, including detection of problems that seem like they should be obvious during program startup.\n",
    "2. Community projects like linters (flake8) and static analysis tools can help catch some of the most common sources of errors before program execution."
   ]
  }
 ],
 "metadata": {
  "language_info": {
   "name": "python"
  }
 },
 "nbformat": 4,
 "nbformat_minor": 5
}
