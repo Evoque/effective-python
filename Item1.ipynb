{
 "cells": [
  {
   "cell_type": "markdown",
   "id": "32c69ee0",
   "metadata": {},
   "source": [
    "默认的Python interpreter是CPython, 但在其他场景下存在着其他选项，如PyPy(https://www.pypy.org)。\n",
    "\n",
    "### PyPy\n",
    "官网: https://www.pypy.org\n",
    "\n",
    "#### 特性与工作原理\n",
    "1. 即时编译(JIT)技术\n",
    "CPython是传统的解释型执行器，代码运行时要逐行解释为字节码再执行，而PyPy在程序运行过程中动态识别\"热点代码\",将其编译为机器码直接执行，避免了重复解释的开销。\n",
    "2. 内存效率\n",
    "相比CPython，PyPy对内存的管理更高效，尤其是在处理大量对象(列表、字典)。甚至CPU使用率优于CPython。\n",
    "3. 灵活性\n",
    "PyPy并非单一工具，而是一个\"解释器框架\"，可通过修改中间层实现不同语言的优化（如支持静态类型扩展、自定义垃圾回收策略等）。\n",
    "4. 速度提升\n",
    "对循环密集型、计算密集型任务（如数学运算、数据处理），速度通常是CPython的5-10倍，部分场景可达50倍。\n",
    "\n",
    "#### 局限性\n",
    "1. C扩展兼容性差\n",
    "热门库`numpy`, `pandas`, `tensorflow`依赖C扩展实现高性能，而PyPy对C的扩展支持优先\n",
    "2. 启动时间略长\n",
    "JIT编译需要热身(识别热点代码并编译),因此段时间运行的脚本可能不如CPython高效。\n",
    "3. 生态支持较弱\n",
    "很多第三方库明确不支持PyPy。\n"
   ]
  }
 ],
 "metadata": {
  "language_info": {
   "name": "python"
  }
 },
 "nbformat": 4,
 "nbformat_minor": 5
}
