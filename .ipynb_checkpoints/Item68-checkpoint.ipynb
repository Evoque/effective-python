{
 "cells": [
  {
   "cell_type": "markdown",
   "id": "f048ae6c",
   "metadata": {},
   "source": [
    "# Item 68: Use Threads for Blocking I/O; Avoid for Parallelism\n",
    "\n"
   ]
  },
  {
   "cell_type": "code",
   "execution_count": null,
   "id": "1f0f5f58",
   "metadata": {},
   "outputs": [
    {
     "ename": "",
     "evalue": "",
     "output_type": "error",
     "traceback": [
      "\u001b[1;31mRunning cells with 'Python 3.13.5' requires the ipykernel package.\n",
      "\u001b[1;31mInstall 'ipykernel' into the Python environment. \n",
      "\u001b[1;31mCommand: '/opt/homebrew/bin/python3 -m pip install ipykernel -U --user --force-reinstall'"
     ]
    }
   ],
   "source": [
    "def factorize(number): \n",
    "    for i in range(1, number + 1):\n",
    "        if number % i == 0:\n",
    "            yield i\n",
    "            \n",
    "import time \n",
    "\n",
    "numbers = [7775876, 6694411, 5038540, 5426782,\n",
    "           9934740, 9168996, 5271226, 8288002,\n",
    "           9403196, 6678888, 6776096, 9582542,\n",
    "           7107467, 9633726, 5747908, 7613918]\n",
    "start = time.perf_counter()\n",
    "\n",
    "for number in numbers:\n",
    "    list(factorize(number))\n",
    "\n",
    "end = time.perf_counter()\n",
    "delta = end - start\n",
    "print(f\"Took {delta: .5f} seconds\")"
   ]
  }
 ],
 "metadata": {
  "kernelspec": {
   "display_name": "Python 3",
   "language": "python",
   "name": "python3"
  },
  "language_info": {
   "name": "python",
   "version": "3.13.5"
  }
 },
 "nbformat": 4,
 "nbformat_minor": 5
}
